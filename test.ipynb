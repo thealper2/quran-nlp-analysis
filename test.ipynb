{
 "cells": [
  {
   "cell_type": "code",
   "execution_count": null,
   "id": "7db064e9",
   "metadata": {},
   "outputs": [],
   "source": [
    "import numpy as np\n",
    "import pandas as pd\n",
    "import matplotlib.pyplot as plt\n",
    "import seaborn as sns\n",
    "import nltk\n",
    "import string\n",
    "import re\n",
    "\n",
    "from wordcloud import WordCloud\n",
    "from collections import Counter\n",
    "from nltk.corpus import stopwords\n",
    "from sklearn.feature_extraction.text import TfidfVectorizer\n",
    "from sklearn.metrics.pairwise import cosine_similarity\n",
    "from transformers import BartTokenizer, BartForConditionalGeneration\n",
    "from nltk.sentiment import SentimentIntensityAnalyzer\n",
    "\n",
    "#nltk.download(\"vader_lexicon\")"
   ]
  },
  {
   "cell_type": "code",
   "execution_count": null,
   "id": "77026b38",
   "metadata": {},
   "outputs": [],
   "source": [
    "#df = pd.read_csv(\"Turkish.csv\", sep=\"|\", names=[\"Surah\", \"Ayat\", \"Turkish\"])\n",
    "df = pd.read_csv(\"quran_main_df.csv\")"
   ]
  },
  {
   "cell_type": "code",
   "execution_count": null,
   "id": "12fbd92d",
   "metadata": {},
   "outputs": [],
   "source": [
    "df.head()"
   ]
  },
  {
   "cell_type": "code",
   "execution_count": null,
   "id": "2dd399f2",
   "metadata": {},
   "outputs": [],
   "source": [
    "df.isnull().sum()"
   ]
  },
  {
   "cell_type": "code",
   "execution_count": null,
   "id": "2ef76285",
   "metadata": {},
   "outputs": [],
   "source": [
    "surah_list = {\n",
    "1: \"Fâtiha Sûresi\",\n",
    "2: \"Bakara Sûresi\",\n",
    "3: \"Âl-i İmrân Sûresi\",\n",
    "4: \"Nisâ Sûresi\",\n",
    "5: \"Mâide Sûresi\",\n",
    "6: \"En'âm Sûresi\",\n",
    "7: \"A'râf Sûresi\",\n",
    "8: \"Enfâl Sûresi\",\n",
    "9: \"Tevbe Sûresi\",\n",
    "10: \"Yunus Sûresi\",\n",
    "11: \"Hûd Sûresi\",\n",
    "12: \"Yusuf Sûresi\",\n",
    "13: \"Ra'd Sûresi\",\n",
    "14: \"İbrahim Sûresi\",\n",
    "15: \"Hicr Sûresi\",\n",
    "16: \"Nahl Sûresi\",\n",
    "17: \"İsrâ Sûresi\",\n",
    "18: \"Kehf Sûresi\",\n",
    "19: \"Meryem Sûresi\",\n",
    "20: \"Tâ-Hâ Sûresi\",\n",
    "21: \"Enbiyâ Sûresi\",\n",
    "22: \"Hac Sûresi\",\n",
    "23: \"Mü'minûn Sûresi\",\n",
    "24: \"Nûr Sûresi\",\n",
    "25: \"Furkan Sûresi\",\n",
    "26: \"Şuarâ Sûresi\",\n",
    "27: \"Neml Sûresi\",\n",
    "28: \"Kasas Sûresi\",\n",
    "29: \"Ankebût Sûresi\",\n",
    "30: \"Rûm Sûresi\",\n",
    "31: \"Lokman Sûresi\",\n",
    "32: \"Secde Sûresi\",\n",
    "33: \"Ahzâb Sûresi\",\n",
    "34: \"Sebe' Sûresi\",\n",
    "35: \"Fâtır Sûresi\",\n",
    "36: \"Yâsin Sûresi\",\n",
    "37: \"Sâffât Sûresi\",\n",
    "38: \"Sâd Sûresi\",\n",
    "39: \"Zümer Sûresi\",\n",
    "40: \"Mü'min Sûresi\",\n",
    "41: \"Fussilet Sûresi\",\n",
    "42: \"Şûrâ Sûresi\",\n",
    "43: \"Zuhruf Sûresi\",\n",
    "44: \"Duhân Sûresi\",\n",
    "45: \"Câsiye Sûresi\",\n",
    "46: \"Ahkaf Sûresi\",\n",
    "47: \"Muhammed Sûresi\",\n",
    "48: \"Fetih Sûresi\",\n",
    "49: \"Hucurât Sûresi\",\n",
    "50: \"Kaf Sûresi\",\n",
    "51: \"Zâriyât Sûresi\",\n",
    "52: \"Tûr Sûresi\",\n",
    "53: \"Necm Sûresi\",\n",
    "54: \"Kamer Sûresi\",\n",
    "55: \"Rahmân Sûresi\",\n",
    "56: \"Vâkıa Sûresi\",\n",
    "57: \"Hadid Sûresi\",\n",
    "58: \"Mücâdele Sûresi\",\n",
    "59: \"Haşr Sûresi\",\n",
    "60: \"Mümtehine Sûresi\",\n",
    "61: \"Saf Sûresi\",\n",
    "62: \"Cum'a Sûresi\",\n",
    "63: \"Münâfikûn Sûresi\",\n",
    "64: \"Teğabün Sûresi\",\n",
    "65: \"Talâk Sûresi\",\n",
    "66: \"Tahrim Sûresi\",\n",
    "67: \"Mülk Sûresi\",\n",
    "68: \"Kalem Sûresi\",\n",
    "69: \"Hâkka Sûresi\",\n",
    "70: \"Meâric Sûresi\",\n",
    "71: \"Nuh Sûresi\",\n",
    "72: \"Cin Sûresi\",\n",
    "73: \"Müzzemmil Sûresi\",\n",
    "74: \"Müddessir Sûresi\",\n",
    "75: \"Kıyamet Sûresi\",\n",
    "76: \"İnsan Sûresi\",\n",
    "77: \"Mürselât Sûresi\",\n",
    "78: \"Nebe' Sûresi\",\n",
    "79: \"Nâziât Sûresi\",\n",
    "80: \"Abese Sûresi\",\n",
    "81: \"Tekvir Sûresi\",\n",
    "82: \"İnfitâr Sûresi\",\n",
    "83: \"Mutaffifin Sûresi\",\n",
    "84: \"İnşikak Sûresi\",\n",
    "85: \"Bürûc Sûresi\",\n",
    "86: \"Târık Sûresi\",\n",
    "87: \"A'lâ Sûresi\",\n",
    "88: \"Gâşiye Sûresi\",\n",
    "89: \"Fecr Sûresi\",\n",
    "90: \"Beled Sûresi\",\n",
    "91: \"Şems Sûresi\",\n",
    "92: \"Leyl Sûresi\",\n",
    "93: \"Duhâ Sûresi\",\n",
    "94: \"İnşirâh Sûresi\",\n",
    "95: \"Tin Sûresi\",\n",
    "96: \"Alak Sûresi\",\n",
    "97: \"Kadir Sûresi\",\n",
    "98: \"Beyyine Sûresi\",\n",
    "99: \"Zilzâl Sûresi\",\n",
    "100: \"Âdiyât Sûresi\",\n",
    "101: \"Kâria Sûresi\",\n",
    "102: \"Tekâsür Sûresi\",\n",
    "103: \"Asr Sûresi\",\n",
    "104: \"Hümeze Sûresi\",\n",
    "105: \"Fil Sûresi\",\n",
    "106: \"Kureyş Sûresi\",\n",
    "107: \"Mâûn Sûresi\",\n",
    "108: \"Kevser Sûresi\", \n",
    "109: \"Kâfirûn Sûresi\",\n",
    "110: \"Nasr Sûresi\",\n",
    "111: \"Tebbet Sûresi\",\n",
    "112: \"İhlâs Sûresi\",\n",
    "113: \"Felâk Sûresi\",\n",
    "114: \"Nâs Sûresi\"\n",
    "}"
   ]
  },
  {
   "cell_type": "code",
   "execution_count": null,
   "id": "807d8752",
   "metadata": {},
   "outputs": [],
   "source": [
    "def surah_name(surahidx):\n",
    "    surahname = surah_list.get(surahidx)\n",
    "    return surahname"
   ]
  },
  {
   "cell_type": "code",
   "execution_count": null,
   "id": "93ca3263",
   "metadata": {},
   "outputs": [],
   "source": [
    "df[\"Name\"] = df[\"Surah\"].apply(surah_name)"
   ]
  },
  {
   "cell_type": "code",
   "execution_count": null,
   "id": "f378d10f",
   "metadata": {},
   "outputs": [],
   "source": [
    "surah_order = {\n",
    "\"Fâtiha Sûresi\": 5,\n",
    "\"Bakara Sûresi\": 87,\n",
    "\"Âl-i İmrân Sûresi\": 89,\n",
    "\"Nisâ Sûresi\": 92,\n",
    "\"Mâide Sûresi\": 112,\n",
    "\"En'âm Sûresi\": 55,\n",
    "\"A'râf Sûresi\": 39,\n",
    "\"Enfâl Sûresi\": 88,\n",
    "\"Tevbe Sûresi\": 113,\n",
    "\"Yunus Sûresi\": 51,\n",
    "\"Hûd Sûresi\": 52,\n",
    "\"Yusuf Sûresi\": 53,\n",
    "\"Ra'd Sûresi\": 96,\n",
    "\"İbrahim Sûresi\": 72,\n",
    "\"Hicr Sûresi\": 54,\n",
    "\"Nahl Sûresi\": 70,\n",
    "\"İsrâ Sûresi\": 50,\n",
    "\"Kehf Sûresi\": 69,\n",
    "\"Meryem Sûresi\": 44,\n",
    "\"Tâ-Hâ Sûresi\": 45,\n",
    "\"Enbiyâ Sûresi\": 73,\n",
    "\"Hac Sûresi\": 103,\n",
    "\"Mü'minûn Sûresi\": 74,\n",
    "\"Nûr Sûresi\": 102,\n",
    "\"Furkan Sûresi\": 42,\n",
    "\"Şuarâ Sûresi\": 47,\n",
    "\"Neml Sûresi\": 48,\n",
    "\"Kasas Sûresi\": 49,\n",
    "\"Ankebût Sûresi\": 85,\n",
    "\"Rûm Sûresi\": 84,\n",
    "\"Lokman Sûresi\": 57,\n",
    "\"Secde Sûresi\": 75,\n",
    "\"Ahzâb Sûresi\": 90,\n",
    "\"Sebe' Sûresi\": 58,\n",
    "\"Fâtır Sûresi\": 43,\n",
    "\"Yâsin Sûresi\": 41,\n",
    "\"Sâffât Sûresi\": 56,\n",
    "\"Sâd Sûresi\": 38,\n",
    "\"Zümer Sûresi\": 59,\n",
    "\"Mü'min Sûresi\": 60,\n",
    "\"Fussilet Sûresi\": 61,\n",
    "\"Şûrâ Sûresi\": 62,\n",
    "\"Zuhruf Sûresi\": 63,\n",
    "\"Duhân Sûresi\": 64,\n",
    "\"Câsiye Sûresi\": 65,\n",
    "\"Ahkaf Sûresi\": 66,\n",
    "\"Muhammed Sûresi\": 95,\n",
    "\"Fetih Sûresi\": 111,\n",
    "\"Hucurât Sûresi\": 106,\n",
    "\"Kaf Sûresi\": 34,\n",
    "\"Zâriyât Sûresi\": 67,\n",
    "\"Tûr Sûresi\": 76,\n",
    "\"Necm Sûresi\": 23,\n",
    "\"Kamer Sûresi\": 37,\n",
    "\"Rahmân Sûresi\": 97,\n",
    "\"Vâkıa Sûresi\": 46,\n",
    "\"Hadid Sûresi\": 94,\n",
    "\"Mücâdele Sûresi\": 105,\n",
    "\"Haşr Sûresi\": 101,\n",
    "\"Mümtehine Sûresi\": 91,\n",
    "\"Saf Sûresi\": 109,\n",
    "\"Cum'a Sûresi\": 110,\n",
    "\"Münâfikûn Sûresi\": 104,\n",
    "\"Teğabün Sûresi\": 108,\n",
    "\"Talâk Sûresi\": 99,\n",
    "\"Tahrim Sûresi\": 107,\n",
    "\"Mülk Sûresi\": 77,\n",
    "\"Kalem Sûresi\": 2,\n",
    "\"Hâkka Sûresi\": 78,\n",
    "\"Meâric Sûresi\": 79,\n",
    "\"Nuh Sûresi\": 71,\n",
    "\"Cin Sûresi\": 40,\n",
    "\"Müzzemmil Sûresi\": 3,\n",
    "\"Müddessir Sûresi\": 4,\n",
    "\"Kıyamet Sûresi\": 31,\n",
    "\"İnsan Sûresi\": 98,\n",
    "\"Mürselât Sûresi\": 33,\n",
    "\"Nebe' Sûresi\": 80,\n",
    "\"Nâziât Sûresi\": 81,\n",
    "\"Abese Sûresi\": 24,\n",
    "\"Tekvir Sûresi\": 7,\n",
    "\"İnfitâr Sûresi\": 82,\n",
    "\"Mutaffifin Sûresi\": 86,\n",
    "\"İnşikak Sûresi\": 83,\n",
    "\"Bürûc Sûresi\": 27,\n",
    "\"Târık Sûresi\": 36,\n",
    "\"A'lâ Sûresi\": 8,\n",
    "\"Gâşiye Sûresi\": 68,\n",
    "\"Fecr Sûresi\": 10,\n",
    "\"Beled Sûresi\": 35,\n",
    "\"Şems Sûresi\": 26,\n",
    "\"Leyl Sûresi\": 9,\n",
    "\"Duhâ Sûresi\": 11,\n",
    "\"İnşirâh Sûresi\": 12,\n",
    "\"Tin Sûresi\": 28,\n",
    "\"Alak Sûresi\": 1,\n",
    "\"Kadir Sûresi\": 25,\n",
    "\"Beyyine Sûresi\": 100,\n",
    "\"Zilzâl Sûresi\": 93,\n",
    "\"Âdiyât Sûresi\": 14,\n",
    "\"Kâria Sûresi\": 30,\n",
    "\"Tekâsür Sûresi\": 16,\n",
    "\"Asr Sûresi\": 13,\n",
    "\"Hümeze Sûresi\": 32,\n",
    "\"Fil Sûresi\": 19,\n",
    "\"Kureyş Sûresi\": 29,\n",
    "\"Mâûn Sûresi\": 17,\n",
    "\"Kevser Sûresi\": 15, \n",
    "\"Kâfirûn Sûresi\": 18,\n",
    "\"Nasr Sûresi\": 114,\n",
    "\"Tebbet Sûresi\": 6,\n",
    "\"İhlâs Sûresi\": 22,\n",
    "\"Felâk Sûresi\": 20,\n",
    "\"Nâs Sûresi\": 21\n",
    "}"
   ]
  },
  {
   "cell_type": "code",
   "execution_count": null,
   "id": "bcd9c6ad",
   "metadata": {},
   "outputs": [],
   "source": [
    "def surah_ordered(surahname):\n",
    "    surahidx = surah_order.get(surahname)\n",
    "    return surahidx"
   ]
  },
  {
   "cell_type": "code",
   "execution_count": null,
   "id": "11095664",
   "metadata": {},
   "outputs": [],
   "source": [
    "df[\"Order\"] = df[\"Name\"].apply(surah_ordered)"
   ]
  },
  {
   "cell_type": "code",
   "execution_count": null,
   "id": "5108a87c",
   "metadata": {},
   "outputs": [],
   "source": [
    "df.isnull().sum()"
   ]
  },
  {
   "cell_type": "code",
   "execution_count": null,
   "id": "e0d771af",
   "metadata": {},
   "outputs": [],
   "source": [
    "def count_ayat(surah):\n",
    "    ayat = df[df[\"Surah\"] == surah][[\"Ayat\"]].shape[0]\n",
    "    return ayat"
   ]
  },
  {
   "cell_type": "code",
   "execution_count": null,
   "id": "a6ac1f22",
   "metadata": {},
   "outputs": [],
   "source": [
    "df[\"Ayat Count\"] = df[\"Surah\"].apply(count_ayat)"
   ]
  },
  {
   "cell_type": "code",
   "execution_count": null,
   "id": "5e8f1c24",
   "metadata": {},
   "outputs": [],
   "source": [
    "surah_ayat_count = df.groupby(by=\"Surah\")[[\"Ayat Count\", \"Order\"]].mean()"
   ]
  },
  {
   "cell_type": "code",
   "execution_count": null,
   "id": "f92faadd",
   "metadata": {},
   "outputs": [],
   "source": [
    "surah_ayat_count.head()"
   ]
  },
  {
   "cell_type": "code",
   "execution_count": null,
   "id": "99322ffd",
   "metadata": {},
   "outputs": [],
   "source": [
    "plt.figure(figsize=(20, 5))\n",
    "ax = sns.barplot(data=surah_ayat_count, x=surah_ayat_count.index, y=surah_ayat_count[\"Ayat Count\"])\n",
    "ax.bar_label(ax.containers[0])\n",
    "ax.set_title(\"Ayat Count per Surah\")\n",
    "plt.xticks(rotation=90)\n",
    "plt.show()"
   ]
  },
  {
   "cell_type": "code",
   "execution_count": null,
   "id": "80ccc37d",
   "metadata": {},
   "outputs": [],
   "source": [
    "plt.figure(figsize=(20, 5))\n",
    "ax = sns.barplot(data=surah_ayat_count, x=surah_ayat_count.index, y=surah_ayat_count[\"Ayat Count\"], order=surah_ayat_count[\"Order\"])\n",
    "ax.bar_label(ax.containers[0])\n",
    "ax.set_title(\"Ayat Count per Surah (ordered by Surah)\")\n",
    "plt.xticks(rotation=90)\n",
    "plt.show()"
   ]
  },
  {
   "cell_type": "markdown",
   "id": "bb75117f",
   "metadata": {},
   "source": [
    "# Preprocess"
   ]
  },
  {
   "cell_type": "code",
   "execution_count": null,
   "id": "5ce523f3",
   "metadata": {},
   "outputs": [],
   "source": [
    "def preprocess_text(text):\n",
    "    text = text.lower()\n",
    "    string.punctuation += \"´\"\n",
    "    string.punctuation += \"‘\"\n",
    "    string.punctuation += \"’\"\n",
    "    text = text.translate(str.maketrans(\"\", \"\", string.punctuation))\n",
    "    words = text.split()\n",
    "    words = [re.sub(r'(.)\\1{1,}', r'\\1\\1', word) for word in words]\n",
    "    words = [word.strip() for word in words if len(word.strip()) > 1 and word not in set(stopwords.words(\"english\"))]\n",
    "    text = \" \".join(words)\n",
    "    return text"
   ]
  },
  {
   "cell_type": "code",
   "execution_count": null,
   "id": "0272771d",
   "metadata": {},
   "outputs": [],
   "source": [
    "df[\"Translation1_clean\"] = df[\"Translation1\"].apply(preprocess_text)\n",
    "df[\"Translation2_clean\"] = df[\"Translation2\"].apply(preprocess_text)\n",
    "df[\"Translation3_clean\"] = df[\"Translation3\"].apply(preprocess_text)\n",
    "df[\"Tafaseer1_clean\"] = df[\"Tafaseer1\"].apply(preprocess_text)\n",
    "df[\"Tafaseer2_clean\"] = df[\"Tafaseer2\"].apply(preprocess_text)"
   ]
  },
  {
   "cell_type": "code",
   "execution_count": null,
   "id": "00dd291f",
   "metadata": {},
   "outputs": [],
   "source": [
    "df.head()"
   ]
  },
  {
   "cell_type": "code",
   "execution_count": null,
   "id": "044bbf23",
   "metadata": {},
   "outputs": [],
   "source": [
    "def word_freq(TEXTS, surahidx):\n",
    "    freq_df = []\n",
    "    for i in range(len(df[df[\"Surah\"] == surahidx])):\n",
    "        text = \"\".join(df[(df[\"Surah\"] == surahidx & (df[\"Ayat\"] == i+1))][TEXTS].values)\n",
    "        freq_df.append(text)\n",
    "        \n",
    "    freq_words = [i.lower() for i in freq_df]\n",
    "    freq_punc = []\n",
    "    \n",
    "    for o  in freq_words:\n",
    "        freq_punc += nltk.word_tokenize(o)\n",
    "        \n",
    "    freq_func = [o for o in freq_punc if o not in string.punctuation]\n",
    "    freq_freq = Counter(freq_punc)\n",
    "    \n",
    "    freq_top = freq_freq.most_common(15)\n",
    "    \n",
    "    words = [word for word, _ in freq_top]\n",
    "    counts = [counts for _, counts in freq_top]\n",
    "    \n",
    "    plt.figure(figsize=(15, 10))\n",
    "    ax = sns.barplot(y=words, x=counts)\n",
    "    ax.bar_label(ax.containers[0])\n",
    "    plt.xlabel(\"Frequency\")\n",
    "    plt.ylabel(\"Words\")\n",
    "    ax.set_title(f\"Most common 15 words in {df[df['Surah'] == surahidx][['Name']].values[0][0]}\")\n",
    "    plt.show()\n",
    "    \n",
    "    return freq_top"
   ]
  },
  {
   "cell_type": "code",
   "execution_count": null,
   "id": "6b7ba25a",
   "metadata": {},
   "outputs": [],
   "source": [
    "fatiha = word_freq(\"Tafaseer1_clean\", 1)"
   ]
  },
  {
   "cell_type": "code",
   "execution_count": null,
   "id": "862b6038",
   "metadata": {},
   "outputs": [],
   "source": [
    "def print_wordcloud(dict_top):\n",
    "    dict_top = dict(dict_top)\n",
    "    wordcloud = WordCloud(width=250, height=250, background_color=\"black\", min_font_size=5).generate_from_frequencies(dict_top)\n",
    "    plt.figure()\n",
    "    plt.imshow(wordcloud)\n",
    "    plt.axis(\"off\")\n",
    "    plt.tight_layout(pad=0)\n",
    "    plt.show()"
   ]
  },
  {
   "cell_type": "code",
   "execution_count": null,
   "id": "94fb7934",
   "metadata": {},
   "outputs": [],
   "source": [
    "print_wordcloud(fatiha)"
   ]
  },
  {
   "cell_type": "markdown",
   "id": "8fb30249",
   "metadata": {},
   "source": [
    "# Similarity"
   ]
  },
  {
   "cell_type": "code",
   "execution_count": null,
   "id": "dfb6a543",
   "metadata": {},
   "outputs": [],
   "source": [
    "turkish = df[\"Tafaseer1_clean\"].tolist()\n",
    "tfidf = TfidfVectorizer()\n",
    "uni_matrix = tfidf.fit_transform(turkish)\n",
    "cos_sim = cosine_similarity(uni_matrix)"
   ]
  },
  {
   "cell_type": "code",
   "execution_count": null,
   "id": "7f9c6aeb",
   "metadata": {},
   "outputs": [],
   "source": [
    "def recommend_texts(text, n=5):\n",
    "    text_index = df[df[\"Tafaseer1_clean\"] == text].index[0]\n",
    "    text_similarities = cos_sim[text_index]\n",
    "    top_indices = text_similarities.argsort()[::-1][1:n+1]\n",
    "    recommended_text = df.loc[top_indices]\n",
    "    return recommended_text"
   ]
  },
  {
   "cell_type": "code",
   "execution_count": null,
   "id": "9ff29ea5",
   "metadata": {},
   "outputs": [],
   "source": [
    "recommend_texts(\"name god compassionate merciful\")"
   ]
  },
  {
   "cell_type": "markdown",
   "id": "3038f615",
   "metadata": {},
   "source": [
    "# Summary"
   ]
  },
  {
   "cell_type": "code",
   "execution_count": null,
   "id": "f26d5ae6",
   "metadata": {},
   "outputs": [],
   "source": [
    "bart_model = BartForConditionalGeneration.from_pretrained(\"facebook/bart-large-cnn\")\n",
    "bart_tokenizer = BartTokenizer.from_pretrained(\"facebook/bart-large-cnn\")"
   ]
  },
  {
   "cell_type": "code",
   "execution_count": null,
   "id": "d0b7ae22",
   "metadata": {},
   "outputs": [],
   "source": [
    "test = \"\".join(df[(df[\"Surah\"] == 1 & (df[\"Ayat\"] == 2))][\"Tafaseer1\"].values)\n",
    "test"
   ]
  },
  {
   "cell_type": "code",
   "execution_count": null,
   "id": "b90eeab7",
   "metadata": {},
   "outputs": [],
   "source": [
    "inputs = bart_tokenizer([test], max_length=1024, return_tensors=\"pt\")\n",
    "summary_ids = bart_model.generate(inputs['input_ids'], num_beams=4, max_length=100, early_stopping=True)\n",
    "summary = ([bart_tokenizer.decode(i, skip_special_tokens=True, clean_up_tokenization_spaces=False) for i in summary_ids])\n",
    "print(summary)"
   ]
  },
  {
   "cell_type": "markdown",
   "id": "b5e194db",
   "metadata": {},
   "source": [
    "# Sentiment Analysis"
   ]
  },
  {
   "cell_type": "code",
   "execution_count": null,
   "id": "2800703c",
   "metadata": {},
   "outputs": [],
   "source": [
    "sentiment = SentimentIntensityAnalyzer()"
   ]
  },
  {
   "cell_type": "code",
   "execution_count": null,
   "id": "9eac2287",
   "metadata": {},
   "outputs": [],
   "source": [
    "def sentiment_score(TEXTS, surahidx):\n",
    "    total_neg, total_neu, total_pos = 0, 0, 0\n",
    "    ayats_len = len(df[df[\"Surah\"] == surahidx])\n",
    "    for i in range(ayats_len):\n",
    "        text = \"\".join(df[(df[\"Surah\"] == surahidx & (df[\"Ayat\"] == i+1))][TEXTS].values)\n",
    "        score = sentiment.polarity_scores(text)\n",
    "        total_neg += score.get(\"neg\") / ayats_len\n",
    "        total_neu += score.get(\"neu\") / ayats_len\n",
    "        total_pos += score.get(\"pos\") / ayats_len\n",
    "        \n",
    "        print(i+1, sentiment.polarity_scores(text))\n",
    "        \n",
    "    scores = [total_neg, total_neu, total_pos]\n",
    "    labels = [\"NEGATIVE\", \"NEUTRAL\", \"POSITIVE\"]\n",
    "    \n",
    "    maxi_idx = scores.index(max(scores))\n",
    "    res = labels[maxi_idx]\n",
    "    print(f\"The surah {df[df['Surah'] == surahidx][['Name']].values[0][0]} is {res}, score: {max(scores)}\")"
   ]
  },
  {
   "cell_type": "code",
   "execution_count": null,
   "id": "7115cc37",
   "metadata": {},
   "outputs": [],
   "source": [
    "sentiment_score(\"Translation1\", 1)"
   ]
  },
  {
   "cell_type": "code",
   "execution_count": null,
   "id": "25d59c6e",
   "metadata": {},
   "outputs": [],
   "source": []
  }
 ],
 "metadata": {
  "kernelspec": {
   "display_name": "Python 3 (ipykernel)",
   "language": "python",
   "name": "python3"
  },
  "language_info": {
   "codemirror_mode": {
    "name": "ipython",
    "version": 3
   },
   "file_extension": ".py",
   "mimetype": "text/x-python",
   "name": "python",
   "nbconvert_exporter": "python",
   "pygments_lexer": "ipython3",
   "version": "3.10.12"
  }
 },
 "nbformat": 4,
 "nbformat_minor": 5
}
